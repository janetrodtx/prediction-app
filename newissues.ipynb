{
 "cells": [
  {
   "cell_type": "code",
   "execution_count": 7,
   "id": "292dd7fa-2259-4f1e-873f-32e209f9e8c8",
   "metadata": {},
   "outputs": [],
   "source": [
    "import pandas as pd\n",
    "from sklearn.model_selection import train_test_split\n",
    "from sklearn.linear_model import LogisticRegression\n",
    "from sklearn.preprocessing import StandardScaler\n",
    "import pickle"
   ]
  },
  {
   "cell_type": "code",
   "execution_count": 11,
   "id": "170a9e87-5540-40e4-be97-809efaa06b68",
   "metadata": {},
   "outputs": [
    {
     "name": "stdout",
     "output_type": "stream",
     "text": [
      "Index(['Issue', 'Definition', 'Cause', 'Budget', 'Recommended Product & Link',\n",
      "       'Solution'],\n",
      "      dtype='object')\n"
     ]
    }
   ],
   "source": [
    "df = pd.read_csv(\"Updated_Hair_Issues_Dataset.csv\")\n",
    "print(df.columns)"
   ]
  },
  {
   "cell_type": "code",
   "execution_count": 12,
   "id": "8285d787-4725-44cc-9dac-9eb07cdf1cee",
   "metadata": {},
   "outputs": [],
   "source": [
    "df.columns = df.columns.str.strip()"
   ]
  },
  {
   "cell_type": "code",
   "execution_count": 13,
   "id": "7e52cf79-de6b-4912-9b35-80a420852a85",
   "metadata": {},
   "outputs": [
    {
     "name": "stdout",
     "output_type": "stream",
     "text": [
      "💡 **Issue:** Frizz\n",
      "📖 **Definition:** Hair appears dry and puffy due to lack of moisture or humidity.\n",
      "⚠️ **Cause:** Lack of moisture, humidity, heat damage.\n",
      "🛠 **Solution:** Use sulfate-free shampoo, deep condition, apply anti-frizz serum.\n",
      "💰 **Budget:** Under $25\n",
      "🛍 **Recommended Product:** [COLOR WOW Dream Coat Supernatural Spray\n",
      "🛍 **Recommended Product:** [ONDAY HAIRCARE Smooth Shampoo + Conditioner Bathroom Set](https://amzn.to/3XKWdu5)\n"
     ]
    }
   ],
   "source": [
    "import pandas as pd\n",
    "\n",
    "# ✅ Load the latest expanded dataset\n",
    "df = pd.read_csv(\"Updated_Hair_Issues_Dataset.csv\")\n",
    "\n",
    "# ✅ Ensure column names are clean (removes hidden spaces)\n",
    "df.columns = df.columns.str.strip()\n",
    "\n",
    "# Sample user input\n",
    "hair_issue = \"Frizz\"  # User selects their issue\n",
    "budget = \"Under $25\"  # User selects budget\n",
    "\n",
    "# ✅ Check if all required columns exist\n",
    "required_columns = {\"Issue\", \"Budget\", \"Definition\", \"Cause\", \"Solution\", \"Recommended Product & Link\"}\n",
    "if required_columns.issubset(df.columns):\n",
    "\n",
    "    # ✅ Filter data based on user input (case insensitive, removes spaces)\n",
    "    result = df[\n",
    "        (df[\"Issue\"].str.lower().str.strip() == hair_issue.lower().strip()) &\n",
    "        (df[\"Budget\"].str.lower().str.strip() == budget.lower().strip())\n",
    "    ]\n",
    "    \n",
    "    # ✅ Display recommendation\n",
    "    if not result.empty:\n",
    "        print(f\"💡 **Issue:** {result.iloc[0]['Issue']}\")\n",
    "        print(f\"📖 **Definition:** {result.iloc[0]['Definition']}\")\n",
    "        print(f\"⚠️ **Cause:** {result.iloc[0]['Cause']}\")\n",
    "        print(f\"🛠 **Solution:** {result.iloc[0]['Solution']}\")\n",
    "        print(f\"💰 **Budget:** {result.iloc[0]['Budget']}\")\n",
    "\n",
    "        # Extract product recommendations and display each separately\n",
    "        product_list = result.iloc[0]['Recommended Product & Link'].split(\", \")\n",
    "        \n",
    "        for product in product_list:\n",
    "            if \"](\" in product:\n",
    "                product_name = product.split('](')[0][1:]  # Extract text inside [ ]\n",
    "                product_link = product.split('](')[1][:-1]  # Extract URL inside ( )\n",
    "                print(f\"🛍 **Recommended Product:** [{product_name}]({product_link})\")\n",
    "            else:\n",
    "                print(f\"🛍 **Recommended Product:** {product}\")  # If no link, display as plain text\n",
    "\n",
    "    else:\n",
    "        print(\"❌ No product found for the selected budget.\")\n",
    "else:\n",
    "    print(\"⚠️ Dataset is missing required columns. Check your CSV structure.\")\n"
   ]
  },
  {
   "cell_type": "code",
   "execution_count": 14,
   "id": "9d201119-908f-4dda-a45c-1da00dc34b24",
   "metadata": {},
   "outputs": [],
   "source": [
    "# Map user input to expected CSV values\n",
    "budget_map = {\n",
    "    \"Under $25\": \"Under $25\",\n",
    "    \"$25 & Up\": \"$25-$50\",  # Adjust if needed\n",
    "    \"$75 & Up\": \"$75 & up\"  # Adjust if needed\n",
    "}\n",
    "\n",
    "selected_budget = budget_map[budget]  # Convert to match CSV format\n",
    "\n",
    "# Filter using corrected budget value\n",
    "result = df[(df[\"Issue\"] == hair_issue) & (df[\"Budget\"] == selected_budget)]"
   ]
  },
  {
   "cell_type": "code",
   "execution_count": 15,
   "id": "06902a71-a89f-42de-8dbf-cead66481940",
   "metadata": {},
   "outputs": [],
   "source": [
    "# Ensure Budget formatting consistency (convert everything to lowercase)\n",
    "df[\"Budget\"] = df[\"Budget\"].str.lower().str.strip()\n",
    "budget = budget.lower().strip()  # Convert user input to lowercase\n",
    "\n",
    "# Process Selection\n",
    "result = df[(df[\"Issue\"] == hair_issue) & (df[\"Budget\"] == budget)]\n"
   ]
  },
  {
   "cell_type": "code",
   "execution_count": null,
   "id": "f16301ca-e7b9-4d20-928b-48cf6afaf253",
   "metadata": {},
   "outputs": [],
   "source": []
  }
 ],
 "metadata": {
  "kernelspec": {
   "display_name": "Python 3 (ipykernel)",
   "language": "python",
   "name": "python3"
  },
  "language_info": {
   "codemirror_mode": {
    "name": "ipython",
    "version": 3
   },
   "file_extension": ".py",
   "mimetype": "text/x-python",
   "name": "python",
   "nbconvert_exporter": "python",
   "pygments_lexer": "ipython3",
   "version": "3.11.4"
  }
 },
 "nbformat": 4,
 "nbformat_minor": 5
}
