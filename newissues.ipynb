{
 "cells": [
  {
   "cell_type": "code",
   "execution_count": 39,
   "id": "cc318d31-0672-471b-a7ab-d2bb13b4d8af",
   "metadata": {},
   "outputs": [],
   "source": [
    "df = pd.read_csv(r\"C:\\Users\\13615\\Downloads\\hair\\Updated_Hair_Issues_Dataset.csv\")\n"
   ]
  },
  {
   "cell_type": "code",
   "execution_count": 40,
   "id": "52b01cdf-9464-40e8-8352-0b533a3a5ebf",
   "metadata": {},
   "outputs": [
    {
     "name": "stdout",
     "output_type": "stream",
     "text": [
      "💡 **Issue:** Frizz\n",
      "📖 **Definition:** Hair appears dry and puffy due to lack of moisture or humidity.\n",
      "⚠️ **Cause:** Lack of moisture, humidity, heat damage.\n",
      "🛠 **Solution:** Use sulfate-free shampoo, deep condition, apply anti-frizz serum.\n",
      "💰 **Budget:** Under $25\n",
      "🛍 **Recommended Product:** [COLOR WOW Dream Coat Supernatural Spray\n",
      "🛍 **Recommended Product:** [ONDAY HAIRCARE Smooth Shampoo + Conditioner Bathroom Set](https://amzn.to/3XKWdu5)\n"
     ]
    }
   ],
   "source": [
    "# ✅ Load the latest expanded dataset\n",
    "df = pd.read_csv(r\"C:\\Users\\13615\\Downloads\\hair\\Updated_Hair_Issues_Dataset.csv\")\n",
    "\n",
    "# ✅ Ensure column names are clean (removes hidden spaces)\n",
    "df.columns = df.columns.str.strip()\n",
    "\n",
    "# Sample user input\n",
    "hair_issue = \"Frizz\"  # User selects their issue\n",
    "budget = \"Under $25\"  # User selects budget\n",
    "\n",
    "# ✅ Check if all required columns exist\n",
    "required_columns = {\"Issue\", \"Budget\", \"Definition\", \"Cause\", \"Solution\", \"Recommended Product & Link\"}\n",
    "if required_columns.issubset(df.columns):\n",
    "\n",
    "    # ✅ Filter data based on user input (case insensitive, removes spaces)\n",
    "    result = df[\n",
    "        (df[\"Issue\"].str.lower().str.strip() == hair_issue.lower().strip()) &\n",
    "        (df[\"Budget\"].str.lower().str.strip() == budget.lower().strip())\n",
    "    ]\n",
    "    \n",
    "    # ✅ Display recommendation\n",
    "    if not result.empty:\n",
    "        print(f\"💡 **Issue:** {result.iloc[0]['Issue']}\")\n",
    "        print(f\"📖 **Definition:** {result.iloc[0]['Definition']}\")\n",
    "        print(f\"⚠️ **Cause:** {result.iloc[0]['Cause']}\")\n",
    "        print(f\"🛠 **Solution:** {result.iloc[0]['Solution']}\")\n",
    "        print(f\"💰 **Budget:** {result.iloc[0]['Budget']}\")\n",
    "\n",
    "        # Extract product recommendations and display each separately\n",
    "        product_list = result.iloc[0]['Recommended Product & Link'].split(\", \")\n",
    "        \n",
    "        for product in product_list:\n",
    "            if \"](\" in product:\n",
    "                product_name = product.split('](')[0][1:]  # Extract text inside [ ]\n",
    "                product_link = product.split('](')[1][:-1]  # Extract URL inside ( )\n",
    "                print(f\"🛍 **Recommended Product:** [{product_name}]({product_link})\")\n",
    "            else:\n",
    "                print(f\"🛍 **Recommended Product:** {product}\")  # If no link, display as plain text\n",
    "\n",
    "    else:\n",
    "        print(\"❌ No product found for the selected budget.\")\n",
    "else:\n",
    "    print(\"⚠️ Dataset is missing required columns. Check your CSV structure.\")"
   ]
  },
  {
   "cell_type": "code",
   "execution_count": 41,
   "id": "2595ef6a-a091-476c-9fe9-5da33b3f9a3a",
   "metadata": {},
   "outputs": [],
   "source": [
    "# Map user input to expected CSV values\n",
    "budget_map = {\n",
    "    \"Under $25\": \"Under $25\",\n",
    "    \"$25 & Up\": \"$25-$50\",  # Adjust if needed\n",
    "    \"$75 & Up\": \"$75 & up\"  # Adjust if needed\n",
    "}\n",
    "\n",
    "selected_budget = budget_map[budget]  # Convert to match CSV format\n",
    "\n",
    "# Filter using corrected budget value\n",
    "result = df[(df[\"Issue\"] == hair_issue) & (df[\"Budget\"] == selected_budget)]"
   ]
  },
  {
   "cell_type": "code",
   "execution_count": 42,
   "id": "c21e2911-3b5d-4437-8118-7f943c6ff19c",
   "metadata": {},
   "outputs": [],
   "source": [
    "# Ensure Budget formatting consistency (convert everything to lowercase)\n",
    "df[\"Budget\"] = df[\"Budget\"].str.lower().str.strip()\n",
    "budget = budget.lower().strip()  # Convert user input to lowercase\n",
    "\n",
    "# Process Selection\n",
    "result = df[(df[\"Issue\"] == hair_issue) & (df[\"Budget\"] == budget)]"
   ]
  },
  {
   "cell_type": "code",
   "execution_count": null,
   "id": "b7c614e0-a081-4624-9b7a-480a50a1a56d",
   "metadata": {},
   "outputs": [],
   "source": []
  }
 ],
 "metadata": {
  "kernelspec": {
   "display_name": "Python 3 (ipykernel)",
   "language": "python",
   "name": "python3"
  },
  "language_info": {
   "codemirror_mode": {
    "name": "ipython",
    "version": 3
   },
   "file_extension": ".py",
   "mimetype": "text/x-python",
   "name": "python",
   "nbconvert_exporter": "python",
   "pygments_lexer": "ipython3",
   "version": "3.11.4"
  }
 },
 "nbformat": 4,
 "nbformat_minor": 5
}
