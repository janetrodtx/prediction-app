{
 "cells": [
  {
   "cell_type": "code",
   "execution_count": 1,
   "id": "a76d3a5d-744f-4009-bb94-de6a2a29010d",
   "metadata": {},
   "outputs": [],
   "source": [
    "import pandas as pd\n",
    "from sklearn.model_selection import train_test_split\n",
    "from sklearn.linear_model import LogisticRegression\n",
    "from sklearn.preprocessing import StandardScaler\n",
    "import pickle"
   ]
  },
  {
   "cell_type": "code",
   "execution_count": 4,
   "id": "90387485-add6-4b69-833a-53ba799e11fb",
   "metadata": {},
   "outputs": [],
   "source": [
    "# Load the dataset\n",
    "df = pd.read_csv(r\"C:\\Users\\13615\\Downloads\\hair\\expanded_hair_issues.csv\")"
   ]
  },
  {
   "cell_type": "code",
   "execution_count": 6,
   "id": "6479acec-3ee4-42f1-ab59-ef1898d35480",
   "metadata": {},
   "outputs": [
    {
     "name": "stdout",
     "output_type": "stream",
     "text": [
      "Index(['Issue', 'Definition', 'Cause', 'Budget', 'Recommended Product & Link'], dtype='object')\n"
     ]
    }
   ],
   "source": [
    "# Define budget categories and corresponding products\n",
    "budget_products = []\n",
    "print(df.columns)"
   ]
  },
  {
   "cell_type": "code",
   "execution_count": 7,
   "id": "f65d3451-917f-4575-a399-bb58edf053d5",
   "metadata": {},
   "outputs": [
    {
     "name": "stdout",
     "output_type": "stream",
     "text": [
      "💡 **Issue:** Frizz\n",
      "📖 **Definition:** Hair appears dry and puffy due to lack of moisture or humidity.\n",
      "⚠️ **Cause:** Lack of moisture, humidity, heat damage.\n",
      "💰 **Budget:** Under $25\n",
      "🛍 **Recommended Product:** [COLOR WOW Dream Coat Supernatural Spray, MONDAY HAIRCARE Smooth Shampoo + Conditioner Bathroom Set](https://amzn.to/3XKWdu5)\n"
     ]
    }
   ],
   "source": [
    "# ✅ Load the latest expanded dataset\n",
    "df = pd.read_csv(r\"C:\\Users\\13615\\Downloads\\hair\\expanded_hair_issues.csv\")\n",
    "\n",
    "# Sample user input\n",
    "hair_issue = \"Frizz\"  # User selects their issue\n",
    "budget = \"Under $25\"  # User selects budget\n",
    "\n",
    "# ✅ Ensure column names match\n",
    "if \"Issue\" in df.columns and \"Budget\" in df.columns and \"Recommended Product & Link\" in df.columns:\n",
    "    # ✅ Filter data based on user input\n",
    "    result = df[(df[\"Issue\"].str.lower() == hair_issue.lower()) & (df[\"Budget\"] == budget)]\n",
    "    \n",
    "    # ✅ Display recommendation\n",
    "    if not result.empty:\n",
    "        print(f\"💡 **Issue:** {result.iloc[0]['Issue']}\")\n",
    "        print(f\"📖 **Definition:** {result.iloc[0]['Definition']}\")\n",
    "        print(f\"⚠️ **Cause:** {result.iloc[0]['Cause']}\")\n",
    "        print(f\"💰 **Budget:** {result.iloc[0]['Budget']}\")\n",
    "        \n",
    "        # Extract product name and link\n",
    "        product_info = result.iloc[0]['Recommended Product & Link']\n",
    "        product_name = product_info.split('](')[0][1:]  # Extracts text inside [ ]\n",
    "        product_link = product_info.split('](')[1][:-1]  # Extracts URL inside ( )\n",
    "\n",
    "        # Print product with a clickable link\n",
    "        print(f\"🛍 **Recommended Product:** [{product_name}]({product_link})\")\n",
    "    else:\n",
    "        print(\"❌ No product found for the selected budget.\")\n",
    "else:\n",
    "    print(\"⚠️ Dataset is missing required columns. Check your CSV structure.\")"
   ]
  },
  {
   "cell_type": "code",
   "execution_count": 8,
   "id": "c6706681-2e13-46ff-aeca-0956e95e84fd",
   "metadata": {},
   "outputs": [],
   "source": [
    "# Map user input to expected CSV values\n",
    "budget_map = {\n",
    "    \"Under $25\": \"Under $25\",\n",
    "    \"$25 & Up\": \"$25-$50\",  # Adjust if needed\n",
    "    \"$75 & Up\": \"$75 & up\"  # Adjust if needed\n",
    "}\n",
    "\n",
    "selected_budget = budget_map[budget]  # Convert to match CSV format\n",
    "\n",
    "# Filter using corrected budget value\n",
    "result = df[(df[\"Issue\"] == hair_issue) & (df[\"Budget\"] == selected_budget)]"
   ]
  },
  {
   "cell_type": "code",
   "execution_count": 9,
   "id": "dcc4ca40-8fc9-4f01-b1b5-c027a6f8b34e",
   "metadata": {},
   "outputs": [
    {
     "name": "stdout",
     "output_type": "stream",
     "text": [
      "['Under $25' '$25 & Up' '$75 & up']\n",
      "Empty DataFrame\n",
      "Columns: [Issue, Definition, Cause, Budget, Recommended Product & Link]\n",
      "Index: []\n"
     ]
    }
   ],
   "source": [
    "import pandas as pd\n",
    "\n",
    "# Load dataset\n",
    "df = pd.read_csv(\"expanded_hair_issues.csv\")\n",
    "\n",
    "# Print unique values in the Budget column to check formatting\n",
    "print(df[\"Budget\"].unique())\n",
    "\n",
    "# Check if there are entries for \"$75 & Up\"\n",
    "print(df[df[\"Budget\"] == \"$75 & Up\"])\n"
   ]
  },
  {
   "cell_type": "code",
   "execution_count": 10,
   "id": "612614cd-edea-4120-bfc0-dfea5d1128b2",
   "metadata": {},
   "outputs": [],
   "source": [
    "# Ensure Budget formatting consistency (convert everything to lowercase)\n",
    "df[\"Budget\"] = df[\"Budget\"].str.lower().str.strip()\n",
    "budget = budget.lower().strip()  # Convert user input to lowercase\n",
    "\n",
    "# Process Selection\n",
    "result = df[(df[\"Issue\"] == hair_issue) & (df[\"Budget\"] == budget)]\n"
   ]
  },
  {
   "cell_type": "code",
   "execution_count": null,
   "id": "48bba8ca-586f-4337-bc55-604e78b5f2b9",
   "metadata": {},
   "outputs": [],
   "source": []
  }
 ],
 "metadata": {
  "kernelspec": {
   "display_name": "Python 3 (ipykernel)",
   "language": "python",
   "name": "python3"
  },
  "language_info": {
   "codemirror_mode": {
    "name": "ipython",
    "version": 3
   },
   "file_extension": ".py",
   "mimetype": "text/x-python",
   "name": "python",
   "nbconvert_exporter": "python",
   "pygments_lexer": "ipython3",
   "version": "3.11.4"
  }
 },
 "nbformat": 4,
 "nbformat_minor": 5
}
