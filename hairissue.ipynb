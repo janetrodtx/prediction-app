{
 "cells": [
  {
   "cell_type": "code",
   "execution_count": 25,
   "id": "253dff11-20d8-4be1-b91d-1c7dd575fb59",
   "metadata": {},
   "outputs": [],
   "source": [
    "import pandas as pd\n",
    "from sklearn.model_selection import train_test_split\n",
    "from sklearn.linear_model import LogisticRegression\n",
    "from sklearn.preprocessing import StandardScaler\n",
    "import pickle"
   ]
  },
  {
   "cell_type": "code",
   "execution_count": 26,
   "id": "38308d7b-23b7-49bf-814d-5a4eefe5c046",
   "metadata": {},
   "outputs": [],
   "source": [
    "# Load the dataset\n",
    "df = pd.read_csv(\"expanded_hair_issues.csv\")"
   ]
  },
  {
   "cell_type": "code",
   "execution_count": 27,
   "id": "4ae1476c-0bbe-4f0e-9be2-1d3f1f85111b",
   "metadata": {},
   "outputs": [
    {
     "name": "stdout",
     "output_type": "stream",
     "text": [
      "Index(['Issue', 'Definition', 'Cause', 'Budget', 'Recommended Product & Link'], dtype='object')\n"
     ]
    }
   ],
   "source": [
    "# Define budget categories and corresponding products\n",
    "budget_products = []\n",
    "print(df.columns)"
   ]
  },
  {
   "cell_type": "code",
   "execution_count": 28,
   "id": "aed0df2f-78fd-471f-908f-1e66e1d65751",
   "metadata": {},
   "outputs": [
    {
     "name": "stdout",
     "output_type": "stream",
     "text": [
      "Index(['Issue', 'Definition', 'Cause', 'Budget', 'Recommended Product & Link'], dtype='object')\n"
     ]
    }
   ],
   "source": [
    "print(df.columns)"
   ]
  },
  {
   "cell_type": "code",
   "execution_count": 29,
   "id": "673cbe70-502d-47de-b37e-8e1c3a635dc7",
   "metadata": {},
   "outputs": [
    {
     "name": "stdout",
     "output_type": "stream",
     "text": [
      "💡 **Issue:** Frizz\n",
      "📖 **Definition:** Hair appears dry and puffy due to lack of moisture or humidity.\n",
      "⚠️ **Cause:** Lack of moisture, humidity, heat damage.\n",
      "💰 **Budget:** Under $25\n",
      "🛍 **Recommended Product:** [COLOR WOW Dream Coat Supernatural Spray, MONDAY HAIRCARE Smooth Shampoo + Conditioner Bathroom Set](https://amzn.to/3XKWdu5)\n"
     ]
    }
   ],
   "source": [
    "# ✅ Load the latest expanded dataset\n",
    "df = pd.read_csv(\"expanded_hair_issues.csv\")\n",
    "\n",
    "# Sample user input\n",
    "hair_issue = \"Frizz\"  # User selects their issue\n",
    "budget = \"Under $25\"  # User selects budget\n",
    "\n",
    "# ✅ Ensure column names match\n",
    "if \"Issue\" in df.columns and \"Budget\" in df.columns and \"Recommended Product & Link\" in df.columns:\n",
    "    # ✅ Filter data based on user input\n",
    "    result = df[(df[\"Issue\"].str.lower() == hair_issue.lower()) & (df[\"Budget\"] == budget)]\n",
    "    \n",
    "    # ✅ Display recommendation\n",
    "    if not result.empty:\n",
    "        print(f\"💡 **Issue:** {result.iloc[0]['Issue']}\")\n",
    "        print(f\"📖 **Definition:** {result.iloc[0]['Definition']}\")\n",
    "        print(f\"⚠️ **Cause:** {result.iloc[0]['Cause']}\")\n",
    "        print(f\"💰 **Budget:** {result.iloc[0]['Budget']}\")\n",
    "        \n",
    "        # Extract product name and link\n",
    "        product_info = result.iloc[0]['Recommended Product & Link']\n",
    "        product_name = product_info.split('](')[0][1:]  # Extracts text inside [ ]\n",
    "        product_link = product_info.split('](')[1][:-1]  # Extracts URL inside ( )\n",
    "\n",
    "        # Print product with a clickable link\n",
    "        print(f\"🛍 **Recommended Product:** [{product_name}]({product_link})\")\n",
    "    else:\n",
    "        print(\"❌ No product found for the selected budget.\")\n",
    "else:\n",
    "    print(\"⚠️ Dataset is missing required columns. Check your CSV structure.\")\n"
   ]
  },
  {
   "cell_type": "code",
   "execution_count": null,
   "id": "1edb32f3-fd70-4805-ba3e-3ce8f8c8d01a",
   "metadata": {},
   "outputs": [],
   "source": []
  }
 ],
 "metadata": {
  "kernelspec": {
   "display_name": "Python 3 (ipykernel)",
   "language": "python",
   "name": "python3"
  },
  "language_info": {
   "codemirror_mode": {
    "name": "ipython",
    "version": 3
   },
   "file_extension": ".py",
   "mimetype": "text/x-python",
   "name": "python",
   "nbconvert_exporter": "python",
   "pygments_lexer": "ipython3",
   "version": "3.11.4"
  }
 },
 "nbformat": 4,
 "nbformat_minor": 5
}
